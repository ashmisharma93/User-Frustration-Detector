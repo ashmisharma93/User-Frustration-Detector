{
 "cells": [
  {
   "cell_type": "code",
   "execution_count": null,
   "id": "ac040976-1a35-446b-b1cf-826540dc8ded",
   "metadata": {},
   "outputs": [],
   "source": [
    "!pip install transformers datasets torch scikit-learn pandas\n"
   ]
  },
  {
   "cell_type": "code",
   "execution_count": 11,
   "id": "ce91382e-2c53-4bb7-bf25-74d597cc2fb2",
   "metadata": {},
   "outputs": [],
   "source": [
    "# Import libraries\n",
    "from transformers import AutoTokenizer, AutoModelForSequenceClassification, Trainer, TrainingArguments\n",
    "from datasets import load_dataset\n",
    "import numpy as np\n",
    "from sklearn.metrics import accuracy_score, precision_recall_fscore_support"
   ]
  },
  {
   "cell_type": "code",
   "execution_count": 12,
   "id": "e4d6bb25-232b-4cd5-b667-79afc95d3fab",
   "metadata": {},
   "outputs": [
    {
     "data": {
      "text/html": [
       "<div>\n",
       "<style scoped>\n",
       "    .dataframe tbody tr th:only-of-type {\n",
       "        vertical-align: middle;\n",
       "    }\n",
       "\n",
       "    .dataframe tbody tr th {\n",
       "        vertical-align: top;\n",
       "    }\n",
       "\n",
       "    .dataframe thead th {\n",
       "        text-align: right;\n",
       "    }\n",
       "</style>\n",
       "<table border=\"1\" class=\"dataframe\">\n",
       "  <thead>\n",
       "    <tr style=\"text-align: right;\">\n",
       "      <th></th>\n",
       "      <th>text</th>\n",
       "      <th>label</th>\n",
       "    </tr>\n",
       "  </thead>\n",
       "  <tbody>\n",
       "    <tr>\n",
       "      <th>0</th>\n",
       "      <td>No doubt it has a great bass and to a great ex...</td>\n",
       "      <td>1</td>\n",
       "    </tr>\n",
       "    <tr>\n",
       "      <th>1</th>\n",
       "      <td>This  earphones are unreliable, i bought it be...</td>\n",
       "      <td>1</td>\n",
       "    </tr>\n",
       "    <tr>\n",
       "      <th>2</th>\n",
       "      <td>i bought itfor 999,I purchased it second time,...</td>\n",
       "      <td>0</td>\n",
       "    </tr>\n",
       "    <tr>\n",
       "      <th>3</th>\n",
       "      <td>Its sound quality is adorable. overall it was ...</td>\n",
       "      <td>1</td>\n",
       "    </tr>\n",
       "    <tr>\n",
       "      <th>4</th>\n",
       "      <td>Its Awesome... Good sound quality &amp; 8-9 hrs ba...</td>\n",
       "      <td>1</td>\n",
       "    </tr>\n",
       "  </tbody>\n",
       "</table>\n",
       "</div>"
      ],
      "text/plain": [
       "                                                text  label\n",
       "0  No doubt it has a great bass and to a great ex...      1\n",
       "1  This  earphones are unreliable, i bought it be...      1\n",
       "2  i bought itfor 999,I purchased it second time,...      0\n",
       "3  Its sound quality is adorable. overall it was ...      1\n",
       "4  Its Awesome... Good sound quality & 8-9 hrs ba...      1"
      ]
     },
     "execution_count": 12,
     "metadata": {},
     "output_type": "execute_result"
    }
   ],
   "source": [
    "import pandas as pd\n",
    "\n",
    "# Load the dataset\n",
    "df = pd.read_csv('AllProductReviews.csv')\n",
    "\n",
    "# Frustration keywords\n",
    "frustration_keywords = [\n",
    "    \"waste\", \"useless\", \"not working\", \"stopped\", \"disappointed\", \"poor\", \"frustrating\",\n",
    "    \"doesn't work\", \"irritating\", \"worst\", \"problem\", \"issue\", \"disconnect\", \"bad\", \"low quality\",\n",
    "    \"not worthy\", \"not worth\", \"unworthy\", \"stops\", \"noisy\", \"crash\", \"lag\", \"uncomfortable\", \"unreliable\",\n",
    "    \"not reliable\", \"cracked\", \"crack\", \"isn't working\"\n",
    "]\n",
    "\n",
    "# Labeling function\n",
    "def label_frustration(text):\n",
    "    text = str(text).lower()\n",
    "    return int(any(kw in text for kw in frustration_keywords))\n",
    "\n",
    "# Apply labeling\n",
    "df['Frustration_Label'] = df['ReviewBody'].apply(label_frustration)\n",
    "\n",
    "# Prepare final dataset\n",
    "df = df[['ReviewBody', 'Frustration_Label']].dropna()\n",
    "df = df.rename(columns={'ReviewBody': 'text', 'Frustration_Label': 'label'})\n",
    "df.head()\n"
   ]
  },
  {
   "cell_type": "code",
   "execution_count": 13,
   "id": "63361692-657c-456d-b15e-b3062d427b0c",
   "metadata": {},
   "outputs": [],
   "source": [
    "from sklearn.model_selection import train_test_split\n",
    "\n",
    "# Split the data\n",
    "train_df, test_df = train_test_split(df, test_size=0.2, random_state=42, stratify=df['label'])\n",
    "\n",
    "# Save to CSV\n",
    "train_df.to_csv(\"train.csv\", index=False)\n",
    "test_df.to_csv(\"test.csv\", index=False)\n"
   ]
  },
  {
   "cell_type": "code",
   "execution_count": 17,
   "id": "741e2123-0146-48d5-91c3-4da8537d9829",
   "metadata": {},
   "outputs": [
    {
     "name": "stderr",
     "output_type": "stream",
     "text": [
      "C:\\Users\\Adhar\\anaconda3\\envs\\tf_env\\lib\\site-packages\\huggingface_hub\\file_download.py:943: FutureWarning: `resume_download` is deprecated and will be removed in version 1.0.0. Downloads always resume when possible. If you want to force a new download, use `force_download=True`.\n",
      "  warnings.warn(\n",
      "Map: 100%|██████████████████████████████████████████████████████████████| 11469/11469 [00:02<00:00, 5037.36 examples/s]\n",
      "Map: 100%|████████████████████████████████████████████████████████████████| 2868/2868 [00:00<00:00, 4906.21 examples/s]\n",
      "Some weights of BertForSequenceClassification were not initialized from the model checkpoint at prajjwal1/bert-mini and are newly initialized: ['classifier.bias', 'classifier.weight']\n",
      "You should probably TRAIN this model on a down-stream task to be able to use it for predictions and inference.\n"
     ]
    }
   ],
   "source": [
    "from datasets import load_dataset\n",
    "from transformers import AutoTokenizer, AutoModelForSequenceClassification\n",
    "\n",
    "# Choose a small model (prajjwal1/bert-mini is lighter than DistilBERT)\n",
    "model_name = \"prajjwal1/bert-mini\"  # You can also try: \"distilbert-base-uncased\"\n",
    "\n",
    "tokenizer = AutoTokenizer.from_pretrained(model_name)\n",
    "\n",
    "# Load dataset\n",
    "dataset = load_dataset(\"csv\", data_files={\"train\": \"train.csv\", \"test\": \"test.csv\"})\n",
    "\n",
    "# Tokenize text\n",
    "def tokenize_function(example):\n",
    "    return tokenizer(example[\"text\"], \n",
    "                     padding=\"max_length\", \n",
    "                     truncation=True,\n",
    "                    max_length = 512)\n",
    "\n",
    "tokenized_dataset = dataset.map(tokenize_function, batched=True)\n",
    "\n",
    "# Load model\n",
    "model = AutoModelForSequenceClassification.from_pretrained(model_name, num_labels=2)\n"
   ]
  },
  {
   "cell_type": "code",
   "execution_count": 18,
   "id": "4e55a4e5-f723-4033-9b60-f9ce54612a70",
   "metadata": {},
   "outputs": [
    {
     "data": {
      "text/plain": [
       "(4, 3)"
      ]
     },
     "execution_count": 18,
     "metadata": {},
     "output_type": "execute_result"
    }
   ],
   "source": [
    "df['token_count'] = df['text'].apply(lambda x: len(tokenizer.tokenize(str(x))))\n",
    "df[df['token_count'] > 512].shape"
   ]
  },
  {
   "cell_type": "code",
   "execution_count": 19,
   "id": "9a29678c-f5f2-4adc-bfd0-8196d4f317b0",
   "metadata": {},
   "outputs": [],
   "source": [
    "from transformers import TrainingArguments, Trainer\n",
    "from sklearn.metrics import accuracy_score, precision_recall_fscore_support\n",
    "import numpy as np\n",
    "\n",
    "# Define metrics\n",
    "def compute_metrics(p):\n",
    "    preds = np.argmax(p.predictions, axis=1)\n",
    "    precision, recall, f1, _ = precision_recall_fscore_support(p.label_ids, preds, average='binary')\n",
    "    acc = accuracy_score(p.label_ids, preds)\n",
    "    return {\"accuracy\": acc, \"precision\": precision, \"recall\": recall, \"f1\": f1}\n",
    "\n",
    "# Training arguments\n",
    "training_args = TrainingArguments(\n",
    "    output_dir=\"./results\",\n",
    "    evaluation_strategy=\"epoch\",\n",
    "    save_strategy=\"epoch\",\n",
    "    num_train_epochs=3,\n",
    "    per_device_train_batch_size=8,\n",
    "    per_device_eval_batch_size=8,\n",
    "    logging_dir=\"./logs\",\n",
    "    logging_strategy=\"epoch\",\n",
    ")\n"
   ]
  },
  {
   "cell_type": "code",
   "execution_count": 20,
   "id": "a2e61d15-f198-4074-b9bf-3fcca2cea46f",
   "metadata": {},
   "outputs": [
    {
     "name": "stderr",
     "output_type": "stream",
     "text": [
      "C:\\Users\\Adhar\\anaconda3\\envs\\tf_env\\lib\\site-packages\\torch\\utils\\data\\dataloader.py:665: UserWarning: 'pin_memory' argument is set as true but no accelerator is found, then device pinned memory won't be used.\n",
      "  warnings.warn(warn_msg)\n"
     ]
    },
    {
     "data": {
      "text/html": [
       "\n",
       "    <div>\n",
       "      \n",
       "      <progress value='4302' max='4302' style='width:300px; height:20px; vertical-align: middle;'></progress>\n",
       "      [4302/4302 1:11:01, Epoch 3/3]\n",
       "    </div>\n",
       "    <table border=\"1\" class=\"dataframe\">\n",
       "  <thead>\n",
       " <tr style=\"text-align: left;\">\n",
       "      <th>Epoch</th>\n",
       "      <th>Training Loss</th>\n",
       "      <th>Validation Loss</th>\n",
       "      <th>Accuracy</th>\n",
       "      <th>Precision</th>\n",
       "      <th>Recall</th>\n",
       "      <th>F1</th>\n",
       "    </tr>\n",
       "  </thead>\n",
       "  <tbody>\n",
       "    <tr>\n",
       "      <td>1</td>\n",
       "      <td>0.181900</td>\n",
       "      <td>0.072142</td>\n",
       "      <td>0.984310</td>\n",
       "      <td>0.963277</td>\n",
       "      <td>0.972896</td>\n",
       "      <td>0.968062</td>\n",
       "    </tr>\n",
       "    <tr>\n",
       "      <td>2</td>\n",
       "      <td>0.051700</td>\n",
       "      <td>0.036603</td>\n",
       "      <td>0.992678</td>\n",
       "      <td>0.984330</td>\n",
       "      <td>0.985735</td>\n",
       "      <td>0.985032</td>\n",
       "    </tr>\n",
       "    <tr>\n",
       "      <td>3</td>\n",
       "      <td>0.032200</td>\n",
       "      <td>0.028471</td>\n",
       "      <td>0.994073</td>\n",
       "      <td>0.989971</td>\n",
       "      <td>0.985735</td>\n",
       "      <td>0.987848</td>\n",
       "    </tr>\n",
       "  </tbody>\n",
       "</table><p>"
      ],
      "text/plain": [
       "<IPython.core.display.HTML object>"
      ]
     },
     "metadata": {},
     "output_type": "display_data"
    },
    {
     "name": "stderr",
     "output_type": "stream",
     "text": [
      "Checkpoint destination directory ./results\\checkpoint-1434 already exists and is non-empty.Saving will proceed but saved results may be invalid.\n",
      "C:\\Users\\Adhar\\anaconda3\\envs\\tf_env\\lib\\site-packages\\torch\\utils\\data\\dataloader.py:665: UserWarning: 'pin_memory' argument is set as true but no accelerator is found, then device pinned memory won't be used.\n",
      "  warnings.warn(warn_msg)\n",
      "Checkpoint destination directory ./results\\checkpoint-2868 already exists and is non-empty.Saving will proceed but saved results may be invalid.\n",
      "C:\\Users\\Adhar\\anaconda3\\envs\\tf_env\\lib\\site-packages\\torch\\utils\\data\\dataloader.py:665: UserWarning: 'pin_memory' argument is set as true but no accelerator is found, then device pinned memory won't be used.\n",
      "  warnings.warn(warn_msg)\n"
     ]
    },
    {
     "data": {
      "text/plain": [
       "TrainOutput(global_step=4302, training_loss=0.08857486925253698, metrics={'train_runtime': 4263.1087, 'train_samples_per_second': 8.071, 'train_steps_per_second': 1.009, 'total_flos': 340967719544832.0, 'train_loss': 0.08857486925253698, 'epoch': 3.0})"
      ]
     },
     "execution_count": 20,
     "metadata": {},
     "output_type": "execute_result"
    }
   ],
   "source": [
    "trainer = Trainer(\n",
    "    model=model,\n",
    "    args=training_args,\n",
    "    train_dataset=tokenized_dataset[\"train\"],\n",
    "    eval_dataset=tokenized_dataset[\"test\"], \n",
    "    tokenizer=tokenizer,\n",
    "    compute_metrics=compute_metrics,\n",
    ")\n",
    "\n",
    "trainer.train()\n"
   ]
  },
  {
   "cell_type": "code",
   "execution_count": 21,
   "id": "b48371a6-ed90-4cbb-a742-4a7a3519d14b",
   "metadata": {},
   "outputs": [
    {
     "data": {
      "text/plain": [
       "('./saved_model\\\\tokenizer_config.json',\n",
       " './saved_model\\\\special_tokens_map.json',\n",
       " './saved_model\\\\vocab.txt',\n",
       " './saved_model\\\\added_tokens.json',\n",
       " './saved_model\\\\tokenizer.json')"
      ]
     },
     "execution_count": 21,
     "metadata": {},
     "output_type": "execute_result"
    }
   ],
   "source": [
    "model.save_pretrained(\"./saved_model\")\n",
    "tokenizer.save_pretrained(\"./saved_model\")\n"
   ]
  },
  {
   "cell_type": "code",
   "execution_count": 23,
   "id": "c15b249f-98d3-4dfe-a17d-d22098934db1",
   "metadata": {},
   "outputs": [],
   "source": [
    "from transformers import AutoTokenizer, AutoModelForSequenceClassification, TextClassificationPipeline\n",
    "\n",
    "# Load the saved model and tokenizer\n",
    "model = AutoModelForSequenceClassification.from_pretrained(\"./saved_model\")\n",
    "tokenizer = AutoTokenizer.from_pretrained(\"./saved_model\")\n"
   ]
  },
  {
   "cell_type": "code",
   "execution_count": 24,
   "id": "f931ea6b-8d47-4da6-a3bb-da525083ab8c",
   "metadata": {},
   "outputs": [
    {
     "name": "stdout",
     "output_type": "stream",
     "text": [
      "Review: This product is useless and keeps disconnecting. Very disappointed.\n",
      " → Prediction: LABEL_1 (Confidence: 1.00)\n",
      "\n",
      "Review: Absolutely love this earphone. Great quality and battery life!\n",
      " → Prediction: LABEL_0 (Confidence: 1.00)\n",
      "\n",
      "Review: Stopped working after 2 days. Waste of money!\n",
      " → Prediction: LABEL_1 (Confidence: 1.00)\n",
      "\n"
     ]
    },
    {
     "name": "stderr",
     "output_type": "stream",
     "text": [
      "C:\\Users\\Adhar\\anaconda3\\envs\\tf_env\\lib\\site-packages\\transformers\\pipelines\\text_classification.py:105: UserWarning: `return_all_scores` is now deprecated,  if want a similar functionality use `top_k=None` instead of `return_all_scores=True` or `top_k=1` instead of `return_all_scores=False`.\n",
      "  warnings.warn(\n"
     ]
    }
   ],
   "source": [
    "# Create a pipeline\n",
    "pipe = TextClassificationPipeline(model=model, tokenizer=tokenizer, return_all_scores=False)\n",
    "\n",
    "# Test on new reviews\n",
    "sample_reviews = [\n",
    "    \"This product is useless and keeps disconnecting. Very disappointed.\",\n",
    "    \"Absolutely love this earphone. Great quality and battery life!\",\n",
    "    \"Stopped working after 2 days. Waste of money!\"\n",
    "]\n",
    "\n",
    "for review in sample_reviews:\n",
    "    result = pipe(review)\n",
    "    label = result[0]['label']\n",
    "    score = result[0]['score']\n",
    "    print(f\"Review: {review}\\n → Prediction: {label} (Confidence: {score:.2f})\\n\")\n"
   ]
  },
  {
   "cell_type": "code",
   "execution_count": null,
   "id": "76a91f2c-af43-42c9-9bb5-7032fa968664",
   "metadata": {},
   "outputs": [],
   "source": []
  }
 ],
 "metadata": {
  "kernelspec": {
   "display_name": "Python (tf_env)",
   "language": "python",
   "name": "tf_env"
  },
  "language_info": {
   "codemirror_mode": {
    "name": "ipython",
    "version": 3
   },
   "file_extension": ".py",
   "mimetype": "text/x-python",
   "name": "python",
   "nbconvert_exporter": "python",
   "pygments_lexer": "ipython3",
   "version": "3.10.18"
  }
 },
 "nbformat": 4,
 "nbformat_minor": 5
}
